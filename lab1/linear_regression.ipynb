{
 "cells": [
  {
   "cell_type": "markdown",
   "metadata": {},
   "source": [
    "# Linear Regression"
   ]
  },
  {
   "cell_type": "code",
   "execution_count": 24,
   "metadata": {},
   "outputs": [],
   "source": [
    "import numpy as np\n",
    "import matplotlib.pyplot as plt"
   ]
  },
  {
   "cell_type": "code",
   "execution_count": 25,
   "metadata": {},
   "outputs": [],
   "source": [
    "# define global parameters (sample size,etc.)\n",
    "(n,sigma,mean,low,high) = (200, 3, 0, 0, 20)\n",
    "x = np.random.uniform(low = low, high = high, size = n).reshape(-1,1)\n",
    "# add ones as a first column\n",
    "x = np.hstack([np.ones_like(x),x])\n",
    "# gaussian noise\n",
    "noise = np.random.normal(mean, sigma, x.shape[0])"
   ]
  },
  {
   "cell_type": "markdown",
   "metadata": {},
   "source": [
    "# generating dataset "
   ]
  },
  {
   "cell_type": "code",
   "execution_count": 26,
   "metadata": {},
   "outputs": [],
   "source": [
    "# real value of params\n",
    "params = np.array([3,2])\n",
    "y = x.dot(params) + noise"
   ]
  },
  {
   "cell_type": "markdown",
   "metadata": {},
   "source": [
    "# scatter plot"
   ]
  },
  {
   "cell_type": "code",
   "execution_count": 27,
   "metadata": {},
   "outputs": [
    {
     "data": {
      "text/plain": [
       "Text(0.5, 0, 'x')"
      ]
     },
     "execution_count": 27,
     "metadata": {},
     "output_type": "execute_result"
    },
    {
     "data": {
      "image/png": "[encoded data removed]",
      "text/plain": [
       "<Figure size 432x288 with 1 Axes>"
      ]
     },
     "metadata": {
      "needs_background": "light"
     },
     "output_type": "display_data"
    }
   ],
   "source": [
    "plt.plot(x[:,1],y,'D')\n",
    "plt.ylabel('y')\n",
    "plt.xlabel('x')"
   ]
  },
  {
   "cell_type": "markdown",
   "metadata": {},
   "source": [
    "### shuffle data and define test/train split"
   ]
  },
  {
   "cell_type": "code",
   "execution_count": 28,
   "metadata": {},
   "outputs": [],
   "source": [
    "data = np.hstack([x,y.reshape(len(y),1)])\n",
    "np.random.shuffle(data)\n",
    "# 80/20\n",
    "split_ind = int(np.floor((n*8)/10))\n",
    "train,test = data[:split_ind],data[split_ind:]\n",
    "(x_train,y_train) = (train[:,:x.shape[1]],train[:,-1])\n",
    "(x_test,y_test) = (test[:,:x.shape[1]],test[:,-1])"
   ]
  },
  {
   "cell_type": "markdown",
   "metadata": {},
   "source": [
    "## hypothesis h and gradient descent"
   ]
  },
  {
   "cell_type": "code",
   "execution_count": 29,
   "metadata": {},
   "outputs": [],
   "source": [
    "def h(x,theta):\n",
    "    return x.dot(theta)"
   ]
  },
  {
   "cell_type": "code",
   "execution_count": 30,
   "metadata": {},
   "outputs": [],
   "source": [
    "# metrics\n",
    "def mean_squared_error(predicted_value,true_value):\n",
    "    return (1/len(predicted_value))*np.sum((predicted_value - true_value)**2)"
   ]
  },
  {
   "cell_type": "code",
   "execution_count": 31,
   "metadata": {},
   "outputs": [],
   "source": [
    "def gradient_descent(rate,data,label,iter=1000):\n",
    "    # initialise theta with zeros\n",
    "    theta = np.zeros(data.shape[1],)\n",
    "    m = data.shape[0]\n",
    "    # main part of optimization\n",
    "    for _ in range(iter):\n",
    "        # current prediction (theta from the previos step)\n",
    "        current_pred = h(data,theta)\n",
    "        # updating weights\n",
    "        theta -= (rate/m)*(data.T.dot((current_pred - label)))\n",
    "    return theta"
   ]
  },
  {
   "cell_type": "markdown",
   "metadata": {},
   "source": [
    "# Train model"
   ]
  },
  {
   "cell_type": "code",
   "execution_count": 32,
   "metadata": {},
   "outputs": [
    {
     "name": "stdout",
     "output_type": "stream",
     "text": [
      "[3.35242671 1.95180113]\n"
     ]
    }
   ],
   "source": [
    "alpha = 0.01\n",
    "iter = 2000\n",
    "theta = gradient_descent(alpha,x_train,y_train,iter)\n",
    "print(theta)"
   ]
  },
  {
   "cell_type": "markdown",
   "metadata": {},
   "source": [
    "## regression line train"
   ]
  },
  {
   "cell_type": "code",
   "execution_count": 33,
   "metadata": {},
   "outputs": [
    {
     "data": {
      "text/plain": [
       "[<matplotlib.lines.Line2D at 0x7f8116021c70>]"
      ]
     },
     "execution_count": 33,
     "metadata": {},
     "output_type": "execute_result"
    },
    {
     "data": {
      "image/png": "[encoded data removed]",
      "text/plain": [
       "<Figure size 432x288 with 1 Axes>"
      ]
     },
     "metadata": {
      "needs_background": "light"
     },
     "output_type": "display_data"
    }
   ],
   "source": [
    "plt.plot(x_train[:,x.shape[1]-1],y_train,'D')\n",
    "plt.ylabel('y')\n",
    "plt.xlabel('x')\n",
    "plt.plot(x_train[:,x.shape[1]-1],  np.dot(x_train,theta),'m',linewidth=4)"
   ]
  },
  {
   "cell_type": "markdown",
   "metadata": {},
   "source": [
    "### accuracy"
   ]
  },
  {
   "cell_type": "code",
   "execution_count": 34,
   "metadata": {},
   "outputs": [
    {
     "name": "stdout",
     "output_type": "stream",
     "text": [
      "8.137995255281494\n"
     ]
    }
   ],
   "source": [
    "pred = h(x_train,theta)\n",
    "print(mean_squared_error(pred,y_train))"
   ]
  },
  {
   "cell_type": "markdown",
   "metadata": {},
   "source": [
    "# testing model on x_test, y_test"
   ]
  },
  {
   "cell_type": "code",
   "execution_count": 35,
   "metadata": {},
   "outputs": [
    {
     "data": {
      "text/plain": [
       "[<matplotlib.lines.Line2D at 0x7f8115f81250>]"
      ]
     },
     "execution_count": 35,
     "metadata": {},
     "output_type": "execute_result"
    },
    {
     "data": {
      "image/png": "[encoded data removed]",
      "text/plain": [
       "<Figure size 432x288 with 1 Axes>"
      ]
     },
     "metadata": {
      "needs_background": "light"
     },
     "output_type": "display_data"
    }
   ],
   "source": [
    "plt.plot(x_test[:,x.shape[1]-1],y_test,'D')\n",
    "plt.ylabel('y')\n",
    "plt.xlabel('x')\n",
    "plt.plot(x_test[:,x.shape[1]-1],  np.dot(x_test,theta),'m',linewidth=4)"
   ]
  },
  {
   "cell_type": "code",
   "execution_count": 36,
   "metadata": {},
   "outputs": [
    {
     "name": "stdout",
     "output_type": "stream",
     "text": [
      "10.646012326189876\n"
     ]
    }
   ],
   "source": [
    "pred_test = h(x_test,theta)\n",
    "print(mean_squared_error(pred_test,y_test))"
   ]
  },
  {
   "cell_type": "code",
   "execution_count": null,
   "metadata": {},
   "outputs": [],
   "source": []
  }
 ],
 "metadata": {
  "kernelspec": {
   "display_name": "Python 3",
   "language": "python",
   "name": "python3"
  },
  "language_info": {
   "codemirror_mode": {
    "name": "ipython",
    "version": 3
   },
   "file_extension": ".py",
   "mimetype": "text/x-python",
   "name": "python",
   "nbconvert_exporter": "python",
   "pygments_lexer": "ipython3",
   "version": "3.8.3"
  }
 },
 "nbformat": 4,
 "nbformat_minor": 4
}
